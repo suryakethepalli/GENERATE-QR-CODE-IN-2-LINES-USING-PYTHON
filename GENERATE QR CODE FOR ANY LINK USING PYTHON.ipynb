{
 "cells": [
  {
   "cell_type": "code",
   "execution_count": 1,
   "id": "48ebb742",
   "metadata": {},
   "outputs": [],
   "source": [
    "import qrcode"
   ]
  },
  {
   "cell_type": "code",
   "execution_count": 9,
   "id": "56f5cb77",
   "metadata": {},
   "outputs": [],
   "source": [
    "img=qrcode.make(\"https://www.youtube.com/watch?v=Gt9WzC4WDEA\")\n",
    "img.save(\"RRR THE PRIDE MOVIE OF TFI.jpg\")"
   ]
  }
 ],
 "metadata": {
  "kernelspec": {
   "display_name": "Python 3",
   "language": "python",
   "name": "python3"
  },
  "language_info": {
   "codemirror_mode": {
    "name": "ipython",
    "version": 3
   },
   "file_extension": ".py",
   "mimetype": "text/x-python",
   "name": "python",
   "nbconvert_exporter": "python",
   "pygments_lexer": "ipython3",
   "version": "3.8.8"
  }
 },
 "nbformat": 4,
 "nbformat_minor": 5
}
